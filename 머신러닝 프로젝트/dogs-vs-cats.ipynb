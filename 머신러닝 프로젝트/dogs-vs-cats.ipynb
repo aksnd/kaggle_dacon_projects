{
 "cells": [
  {
   "cell_type": "code",
   "execution_count": 1,
   "id": "a80b14c6",
   "metadata": {
    "_cell_guid": "b1076dfc-b9ad-4769-8c92-a6c4dae69d19",
    "_uuid": "8f2839f25d086af736a60e9eeb907d3b93b6e0e5",
    "execution": {
     "iopub.execute_input": "2023-05-20T14:03:43.998659Z",
     "iopub.status.busy": "2023-05-20T14:03:43.998217Z",
     "iopub.status.idle": "2023-05-20T14:03:44.179260Z",
     "shell.execute_reply": "2023-05-20T14:03:44.177789Z"
    },
    "papermill": {
     "duration": 0.193895,
     "end_time": "2023-05-20T14:03:44.181453",
     "exception": false,
     "start_time": "2023-05-20T14:03:43.987558",
     "status": "completed"
    },
    "tags": []
   },
   "outputs": [
    {
     "name": "stdout",
     "output_type": "stream",
     "text": [
      "/kaggle/input/dogs-vs-cats-redux-kernels-edition/sample_submission.csv\n",
      "/kaggle/input/dogs-vs-cats-redux-kernels-edition/train.zip\n",
      "/kaggle/input/dogs-vs-cats-redux-kernels-edition/test.zip\n"
     ]
    }
   ],
   "source": [
    "# This Python 3 environment comes with many helpful analytics libraries installed\n",
    "# It is defined by the kaggle/python Docker image: https://github.com/kaggle/docker-python\n",
    "# For example, here's several helpful packages to load\n",
    "\n",
    "import numpy as np # linear algebra\n",
    "import pandas as pd # data processing, CSV file I/O (e.g. pd.read_csv)\n",
    "\n",
    "# Input data files are available in the read-only \"../input/\" directory\n",
    "# For example, running this (by clicking run or pressing Shift+Enter) will list all files under the input directory\n",
    "import shutil\n",
    "import zipfile\n",
    "import os\n",
    "import cv2\n",
    "for dirname, _, filenames in os.walk('/kaggle/input'):\n",
    "    for filename in filenames:\n",
    "        print(os.path.join(dirname, filename))\n",
    "\n",
    "# You can write up to 20GB to the current directory (/kaggle/working/) that gets preserved as output when you create a version using \"Save & Run All\" \n",
    "# You can also write temporary files to /kaggle/temp/, but they won't be saved outside of the current session"
   ]
  },
  {
   "cell_type": "code",
   "execution_count": 2,
   "id": "8c7fbcdd",
   "metadata": {
    "execution": {
     "iopub.execute_input": "2023-05-20T14:03:44.196379Z",
     "iopub.status.busy": "2023-05-20T14:03:44.196070Z",
     "iopub.status.idle": "2023-05-20T14:03:44.203451Z",
     "shell.execute_reply": "2023-05-20T14:03:44.202441Z"
    },
    "papermill": {
     "duration": 0.017453,
     "end_time": "2023-05-20T14:03:44.205890",
     "exception": false,
     "start_time": "2023-05-20T14:03:44.188437",
     "status": "completed"
    },
    "tags": []
   },
   "outputs": [
    {
     "data": {
      "text/plain": [
       "['sample_submission.csv', 'train.zip', 'test.zip']"
      ]
     },
     "execution_count": 2,
     "metadata": {},
     "output_type": "execute_result"
    }
   ],
   "source": [
    "os.listdir('/kaggle/input/dogs-vs-cats-redux-kernels-edition')"
   ]
  },
  {
   "cell_type": "code",
   "execution_count": 3,
   "id": "86f1b89d",
   "metadata": {
    "execution": {
     "iopub.execute_input": "2023-05-20T14:03:44.220456Z",
     "iopub.status.busy": "2023-05-20T14:03:44.220199Z",
     "iopub.status.idle": "2023-05-20T14:03:44.225886Z",
     "shell.execute_reply": "2023-05-20T14:03:44.224929Z"
    },
    "papermill": {
     "duration": 0.016251,
     "end_time": "2023-05-20T14:03:44.228909",
     "exception": false,
     "start_time": "2023-05-20T14:03:44.212658",
     "status": "completed"
    },
    "tags": []
   },
   "outputs": [
    {
     "data": {
      "text/plain": [
       "'/kaggle/working'"
      ]
     },
     "execution_count": 3,
     "metadata": {},
     "output_type": "execute_result"
    }
   ],
   "source": [
    "os.getcwd() # 현재 dir위치"
   ]
  },
  {
   "cell_type": "code",
   "execution_count": 4,
   "id": "b316fa85",
   "metadata": {
    "execution": {
     "iopub.execute_input": "2023-05-20T14:03:44.243712Z",
     "iopub.status.busy": "2023-05-20T14:03:44.243456Z",
     "iopub.status.idle": "2023-05-20T14:03:44.247569Z",
     "shell.execute_reply": "2023-05-20T14:03:44.246642Z"
    },
    "papermill": {
     "duration": 0.013793,
     "end_time": "2023-05-20T14:03:44.249592",
     "exception": false,
     "start_time": "2023-05-20T14:03:44.235799",
     "status": "completed"
    },
    "tags": []
   },
   "outputs": [],
   "source": [
    "#shutil.rmtree('../data') #처음돌릴때는 이 줄을 주석처리하시오.\n",
    "os.makedirs('../data') # 최상위 폴더에 data 폴더 만듬"
   ]
  },
  {
   "cell_type": "code",
   "execution_count": 5,
   "id": "ff85f3f1",
   "metadata": {
    "execution": {
     "iopub.execute_input": "2023-05-20T14:03:44.264328Z",
     "iopub.status.busy": "2023-05-20T14:03:44.264037Z",
     "iopub.status.idle": "2023-05-20T14:03:44.268623Z",
     "shell.execute_reply": "2023-05-20T14:03:44.267712Z"
    },
    "papermill": {
     "duration": 0.014138,
     "end_time": "2023-05-20T14:03:44.270534",
     "exception": false,
     "start_time": "2023-05-20T14:03:44.256396",
     "status": "completed"
    },
    "tags": []
   },
   "outputs": [],
   "source": [
    "base_dir = '../input/dogs-vs-cats-redux-kernels-edition'\n",
    "train_dir = '../data/train'\n",
    "val_dir = '../data/val'\n",
    "test_dir = '../data/test'\n",
    "\n",
    "\n",
    "train_dog_dir = '../data/train/dog'\n",
    "train_cat_dir = '../data/train/cat'\n",
    "val_dog_dir = '../data/val/dog'\n",
    "val_cat_dir = '../data/val/cat'"
   ]
  },
  {
   "cell_type": "code",
   "execution_count": 6,
   "id": "130ac43b",
   "metadata": {
    "execution": {
     "iopub.execute_input": "2023-05-20T14:03:44.285970Z",
     "iopub.status.busy": "2023-05-20T14:03:44.285289Z",
     "iopub.status.idle": "2023-05-20T14:04:01.622959Z",
     "shell.execute_reply": "2023-05-20T14:04:01.621970Z"
    },
    "papermill": {
     "duration": 17.347963,
     "end_time": "2023-05-20T14:04:01.625605",
     "exception": false,
     "start_time": "2023-05-20T14:03:44.277642",
     "status": "completed"
    },
    "tags": []
   },
   "outputs": [],
   "source": [
    "with zipfile.ZipFile(os.path.join(base_dir, 'train.zip')) as train_zip:\n",
    "    train_zip.extractall('../data') #train_zip을 train_zip으로 설정한후, 압축 해제해서 data폴더에 넣어버림.\n",
    "\n",
    "os.makedirs(test_dir)\n",
    "with zipfile.ZipFile(os.path.join(base_dir, 'test.zip')) as test_zip:\n",
    "    test_zip.extractall('../data')"
   ]
  },
  {
   "cell_type": "code",
   "execution_count": 7,
   "id": "1bf7e54b",
   "metadata": {
    "execution": {
     "iopub.execute_input": "2023-05-20T14:04:01.642871Z",
     "iopub.status.busy": "2023-05-20T14:04:01.641239Z",
     "iopub.status.idle": "2023-05-20T14:04:01.648190Z",
     "shell.execute_reply": "2023-05-20T14:04:01.647399Z"
    },
    "papermill": {
     "duration": 0.017115,
     "end_time": "2023-05-20T14:04:01.650169",
     "exception": false,
     "start_time": "2023-05-20T14:04:01.633054",
     "status": "completed"
    },
    "tags": []
   },
   "outputs": [],
   "source": [
    "os.makedirs(val_dir,exist_ok=True)\n",
    "os.makedirs(train_dog_dir,exist_ok=True)\n",
    "os.makedirs(train_cat_dir,exist_ok=True)\n",
    "os.makedirs(val_dog_dir,exist_ok=True)\n",
    "os.makedirs(val_cat_dir,exist_ok=True)"
   ]
  },
  {
   "cell_type": "code",
   "execution_count": 8,
   "id": "b3a4cbd7",
   "metadata": {
    "execution": {
     "iopub.execute_input": "2023-05-20T14:04:01.665577Z",
     "iopub.status.busy": "2023-05-20T14:04:01.664735Z",
     "iopub.status.idle": "2023-05-20T14:04:01.692032Z",
     "shell.execute_reply": "2023-05-20T14:04:01.691081Z"
    },
    "papermill": {
     "duration": 0.037217,
     "end_time": "2023-05-20T14:04:01.694157",
     "exception": false,
     "start_time": "2023-05-20T14:04:01.656940",
     "status": "completed"
    },
    "tags": []
   },
   "outputs": [
    {
     "data": {
      "text/plain": [
       "['10435.jpg', '6790.jpg', '4644.jpg', '1835.jpg', '1102.jpg']"
      ]
     },
     "execution_count": 8,
     "metadata": {},
     "output_type": "execute_result"
    }
   ],
   "source": [
    "os.listdir(train_dir)[:5]\n",
    "os.listdir(test_dir)[:5]"
   ]
  },
  {
   "cell_type": "code",
   "execution_count": 9,
   "id": "166d9a0c",
   "metadata": {
    "execution": {
     "iopub.execute_input": "2023-05-20T14:04:01.709334Z",
     "iopub.status.busy": "2023-05-20T14:04:01.709054Z",
     "iopub.status.idle": "2023-05-20T14:04:01.715653Z",
     "shell.execute_reply": "2023-05-20T14:04:01.714759Z"
    },
    "papermill": {
     "duration": 0.016545,
     "end_time": "2023-05-20T14:04:01.717632",
     "exception": false,
     "start_time": "2023-05-20T14:04:01.701087",
     "status": "completed"
    },
    "tags": []
   },
   "outputs": [
    {
     "data": {
      "text/plain": [
       "'/kaggle/working'"
      ]
     },
     "execution_count": 9,
     "metadata": {},
     "output_type": "execute_result"
    }
   ],
   "source": [
    "os.getcwd() # 현재 dir위치 여기서 ../data하면 data폴더로, ../input하면 input 폴더로 들어간다."
   ]
  },
  {
   "cell_type": "code",
   "execution_count": 10,
   "id": "73017426",
   "metadata": {
    "execution": {
     "iopub.execute_input": "2023-05-20T14:04:01.733192Z",
     "iopub.status.busy": "2023-05-20T14:04:01.732919Z",
     "iopub.status.idle": "2023-05-20T14:04:01.744680Z",
     "shell.execute_reply": "2023-05-20T14:04:01.743635Z"
    },
    "papermill": {
     "duration": 0.022074,
     "end_time": "2023-05-20T14:04:01.746827",
     "exception": false,
     "start_time": "2023-05-20T14:04:01.724753",
     "status": "completed"
    },
    "tags": []
   },
   "outputs": [
    {
     "name": "stdout",
     "output_type": "stream",
     "text": [
      "12500\n"
     ]
    }
   ],
   "source": [
    "#ori_train_size = len(os.listdir(train_dir))\n",
    "ori_train_size =25000 #이유는 모르겠지만 25000개가 아닌 25002개가 나와서 그냥 넣기로함.\n",
    "test_size = len(os.listdir(test_dir))\n",
    "print(test_size)"
   ]
  },
  {
   "cell_type": "code",
   "execution_count": 11,
   "id": "d5a4f116",
   "metadata": {
    "execution": {
     "iopub.execute_input": "2023-05-20T14:04:01.762197Z",
     "iopub.status.busy": "2023-05-20T14:04:01.761925Z",
     "iopub.status.idle": "2023-05-20T14:04:01.775239Z",
     "shell.execute_reply": "2023-05-20T14:04:01.774327Z"
    },
    "papermill": {
     "duration": 0.023399,
     "end_time": "2023-05-20T14:04:01.777292",
     "exception": false,
     "start_time": "2023-05-20T14:04:01.753893",
     "status": "completed"
    },
    "tags": []
   },
   "outputs": [],
   "source": [
    "val_ratio = 0.2\n",
    "\n",
    "dog_files = [f'dog.{i}.jpg' for i in range(ori_train_size//2)]\n",
    "cat_files = [f'cat.{i}.jpg' for i in range(ori_train_size//2)]\n",
    "\n",
    "test_files = [f'{i}.jpg' for i in range(1,test_size+1)]"
   ]
  },
  {
   "cell_type": "code",
   "execution_count": 12,
   "id": "e700ecb6",
   "metadata": {
    "execution": {
     "iopub.execute_input": "2023-05-20T14:04:01.792894Z",
     "iopub.status.busy": "2023-05-20T14:04:01.792644Z",
     "iopub.status.idle": "2023-05-20T14:04:02.749453Z",
     "shell.execute_reply": "2023-05-20T14:04:02.748255Z"
    },
    "papermill": {
     "duration": 0.967479,
     "end_time": "2023-05-20T14:04:02.751985",
     "exception": false,
     "start_time": "2023-05-20T14:04:01.784506",
     "status": "completed"
    },
    "tags": []
   },
   "outputs": [],
   "source": [
    "import shutil\n",
    "val_size = int(ori_train_size*val_ratio)\n",
    "train_size = int(ori_train_size-val_size)\n",
    "train_animal_size = train_size//2\n",
    "val_animal_size = val_size//2\n",
    "\n",
    "for file in dog_files[:train_animal_size]:\n",
    "    src = os.path.join(train_dir, file)\n",
    "    dst = os.path.join(train_dog_dir, file)\n",
    "    shutil.move(src, dst)\n",
    "for file in cat_files[:train_animal_size]:\n",
    "    src = os.path.join(train_dir, file)\n",
    "    dst = os.path.join(train_cat_dir, file)\n",
    "    shutil.move(src, dst)\n",
    "\n",
    "for file in dog_files[train_animal_size:]:\n",
    "    src = os.path.join(train_dir, file)\n",
    "    dst = os.path.join(val_dog_dir, file)\n",
    "    shutil.move(src, dst)\n",
    "for file in cat_files[train_animal_size:]:\n",
    "    src = os.path.join(train_dir, file)\n",
    "    dst = os.path.join(val_cat_dir, file)\n",
    "    shutil.move(src, dst)\n",
    "\n",
    "    "
   ]
  },
  {
   "cell_type": "code",
   "execution_count": 13,
   "id": "8ba3d957",
   "metadata": {
    "execution": {
     "iopub.execute_input": "2023-05-20T14:04:02.768457Z",
     "iopub.status.busy": "2023-05-20T14:04:02.768169Z",
     "iopub.status.idle": "2023-05-20T14:04:02.781249Z",
     "shell.execute_reply": "2023-05-20T14:04:02.780293Z"
    },
    "papermill": {
     "duration": 0.023741,
     "end_time": "2023-05-20T14:04:02.783350",
     "exception": false,
     "start_time": "2023-05-20T14:04:02.759609",
     "status": "completed"
    },
    "tags": []
   },
   "outputs": [
    {
     "data": {
      "text/plain": [
       "['10435.jpg', '6790.jpg', '4644.jpg', '1835.jpg', '1102.jpg']"
      ]
     },
     "execution_count": 13,
     "metadata": {},
     "output_type": "execute_result"
    }
   ],
   "source": [
    "os.listdir(test_dir)[:5]"
   ]
  },
  {
   "cell_type": "code",
   "execution_count": 14,
   "id": "dd2a111e",
   "metadata": {
    "execution": {
     "iopub.execute_input": "2023-05-20T14:04:02.799683Z",
     "iopub.status.busy": "2023-05-20T14:04:02.799420Z",
     "iopub.status.idle": "2023-05-20T14:04:11.152413Z",
     "shell.execute_reply": "2023-05-20T14:04:11.149343Z"
    },
    "papermill": {
     "duration": 8.364719,
     "end_time": "2023-05-20T14:04:11.155830",
     "exception": false,
     "start_time": "2023-05-20T14:04:02.791111",
     "status": "completed"
    },
    "tags": []
   },
   "outputs": [
    {
     "name": "stderr",
     "output_type": "stream",
     "text": [
      "/opt/conda/lib/python3.10/site-packages/scipy/__init__.py:146: UserWarning: A NumPy version >=1.16.5 and <1.23.0 is required for this version of SciPy (detected version 1.23.5\n",
      "  warnings.warn(f\"A NumPy version >={np_minversion} and <{np_maxversion}\"\n"
     ]
    },
    {
     "name": "stdout",
     "output_type": "stream",
     "text": [
      "Found 20000 images belonging to 2 classes.\n",
      "Found 5000 images belonging to 2 classes.\n"
     ]
    }
   ],
   "source": [
    "import tensorflow as tf\n",
    "train_datagen = tf.keras.preprocessing.image.ImageDataGenerator(rescale=1./255,\n",
    "                                                                rotation_range=40,\n",
    "                                                                brightness_range = [0.5,1.0],\n",
    "                                                                zoom_range = [0.5,1.0],\n",
    "                                                                horizontal_flip = True,\n",
    "                                                               )\n",
    "valid_datagen = tf.keras.preprocessing.image.ImageDataGenerator(rescale=1./255)\n",
    "test_datagen = tf.keras.preprocessing.image.ImageDataGenerator(rescale=1./255)\n",
    " \n",
    "\n",
    "image_size = 128\n",
    "train_generator = train_datagen.flow_from_directory(train_dir,target_size=(image_size,image_size),batch_size=32,class_mode='binary')\n",
    "valid_generator = valid_datagen.flow_from_directory(val_dir,target_size=(image_size,image_size),batch_size=32,class_mode='binary')\n",
    "#test_generator = test_datagen.flow_from_directory(test_dir,target_size=(image_size,image_size),batch_size=32,class_mode='binary')\n",
    " \n",
    "train_step = train_generator.n // 32\n",
    "valid_step = valid_generator.n // 32\n",
    "#test_step = test_generator.n // 32"
   ]
  },
  {
   "cell_type": "code",
   "execution_count": 15,
   "id": "22534f22",
   "metadata": {
    "execution": {
     "iopub.execute_input": "2023-05-20T14:04:11.195276Z",
     "iopub.status.busy": "2023-05-20T14:04:11.193738Z",
     "iopub.status.idle": "2023-05-20T14:04:14.510907Z",
     "shell.execute_reply": "2023-05-20T14:04:14.510111Z"
    },
    "papermill": {
     "duration": 3.37003,
     "end_time": "2023-05-20T14:04:14.543798",
     "exception": false,
     "start_time": "2023-05-20T14:04:11.173768",
     "status": "completed"
    },
    "tags": []
   },
   "outputs": [
    {
     "name": "stdout",
     "output_type": "stream",
     "text": [
      "Model: \"sequential\"\n",
      "_________________________________________________________________\n",
      " Layer (type)                Output Shape              Param #   \n",
      "=================================================================\n",
      " conv2d (Conv2D)             (None, 128, 128, 64)      1792      \n",
      "                                                                 \n",
      " conv2d_1 (Conv2D)           (None, 128, 128, 64)      36928     \n",
      "                                                                 \n",
      " max_pooling2d (MaxPooling2D  (None, 64, 64, 64)       0         \n",
      " )                                                               \n",
      "                                                                 \n",
      " conv2d_2 (Conv2D)           (None, 64, 64, 128)       73856     \n",
      "                                                                 \n",
      " conv2d_3 (Conv2D)           (None, 64, 64, 128)       147584    \n",
      "                                                                 \n",
      " max_pooling2d_1 (MaxPooling  (None, 32, 32, 128)      0         \n",
      " 2D)                                                             \n",
      "                                                                 \n",
      " conv2d_4 (Conv2D)           (None, 32, 32, 256)       295168    \n",
      "                                                                 \n",
      " conv2d_5 (Conv2D)           (None, 32, 32, 256)       590080    \n",
      "                                                                 \n",
      " max_pooling2d_2 (MaxPooling  (None, 16, 16, 256)      0         \n",
      " 2D)                                                             \n",
      "                                                                 \n",
      " conv2d_6 (Conv2D)           (None, 16, 16, 512)       1180160   \n",
      "                                                                 \n",
      " conv2d_7 (Conv2D)           (None, 16, 16, 512)       2359808   \n",
      "                                                                 \n",
      " max_pooling2d_3 (MaxPooling  (None, 8, 8, 512)        0         \n",
      " 2D)                                                             \n",
      "                                                                 \n",
      " flatten (Flatten)           (None, 32768)             0         \n",
      "                                                                 \n",
      " dense (Dense)               (None, 4096)              134221824 \n",
      "                                                                 \n",
      " dropout (Dropout)           (None, 4096)              0         \n",
      "                                                                 \n",
      " dense_1 (Dense)             (None, 1024)              4195328   \n",
      "                                                                 \n",
      " dropout_1 (Dropout)         (None, 1024)              0         \n",
      "                                                                 \n",
      " dense_2 (Dense)             (None, 128)               131200    \n",
      "                                                                 \n",
      " dropout_2 (Dropout)         (None, 128)               0         \n",
      "                                                                 \n",
      " dense_3 (Dense)             (None, 32)                4128      \n",
      "                                                                 \n",
      " dropout_3 (Dropout)         (None, 32)                0         \n",
      "                                                                 \n",
      " dense_4 (Dense)             (None, 1)                 33        \n",
      "                                                                 \n",
      "=================================================================\n",
      "Total params: 143,237,889\n",
      "Trainable params: 143,237,889\n",
      "Non-trainable params: 0\n",
      "_________________________________________________________________\n"
     ]
    }
   ],
   "source": [
    "model = tf.keras.models.Sequential([\n",
    "    tf.keras.layers.Input(shape=(image_size,image_size,3)),\n",
    "    tf.keras.layers.Conv2D(filters=64, kernel_size=(3,3), strides=1, padding='same', activation='relu'),\n",
    "    tf.keras.layers.Conv2D(filters=64, kernel_size=(3,3), strides=1, padding='same', activation='relu'),\n",
    "    tf.keras.layers.MaxPooling2D((2, 2)),\n",
    "    tf.keras.layers.Conv2D(filters=128, kernel_size=(3,3), strides=1, padding='same', activation='relu'),\n",
    "    tf.keras.layers.Conv2D(filters=128, kernel_size=(3,3), strides=1, padding='same', activation='relu'),\n",
    "    tf.keras.layers.MaxPooling2D((2,2)),\n",
    "    tf.keras.layers.Conv2D(filters=256, kernel_size=(3,3), strides=1, padding='same', activation='relu'),\n",
    "    tf.keras.layers.Conv2D(filters=256, kernel_size=(3,3), strides=1, padding='same', activation='relu'),\n",
    "    tf.keras.layers.MaxPooling2D((2,2)),\n",
    "    tf.keras.layers.Conv2D(filters=512, kernel_size=(3,3), strides=1, padding='same', activation='relu'),\n",
    "    tf.keras.layers.Conv2D(filters=512, kernel_size=(3,3), strides=1, padding='same', activation='relu'),\n",
    "    tf.keras.layers.MaxPooling2D((2,2)),\n",
    "    tf.keras.layers.Flatten(),\n",
    "    tf.keras.layers.Dense(4096, activation='relu'),\n",
    "    tf.keras.layers.Dropout(0.8),\n",
    "    tf.keras.layers.Dense(1024, activation='relu'),\n",
    "    tf.keras.layers.Dropout(0.8),\n",
    "    tf.keras.layers.Dense(128, activation='relu'),\n",
    "    tf.keras.layers.Dropout(0.6),\n",
    "    tf.keras.layers.Dense(32, activation='relu'),\n",
    "    tf.keras.layers.Dropout(0.3),\n",
    "    tf.keras.layers.Dense(1, activation='sigmoid')\n",
    "])\n",
    " \n",
    "model.summary()"
   ]
  },
  {
   "cell_type": "code",
   "execution_count": 16,
   "id": "97d4f9df",
   "metadata": {
    "execution": {
     "iopub.execute_input": "2023-05-20T14:04:14.568562Z",
     "iopub.status.busy": "2023-05-20T14:04:14.568258Z",
     "iopub.status.idle": "2023-05-20T14:04:14.586511Z",
     "shell.execute_reply": "2023-05-20T14:04:14.585625Z"
    },
    "papermill": {
     "duration": 0.032737,
     "end_time": "2023-05-20T14:04:14.588503",
     "exception": false,
     "start_time": "2023-05-20T14:04:14.555766",
     "status": "completed"
    },
    "tags": []
   },
   "outputs": [],
   "source": [
    "model.compile(optimizer=tf.keras.optimizers.Adam(1e-5),\n",
    "              loss='binary_crossentropy',\n",
    "              metrics=['acc'])"
   ]
  },
  {
   "cell_type": "code",
   "execution_count": 17,
   "id": "e94fc46a",
   "metadata": {
    "execution": {
     "iopub.execute_input": "2023-05-20T14:04:14.614671Z",
     "iopub.status.busy": "2023-05-20T14:04:14.613026Z",
     "iopub.status.idle": "2023-05-20T14:04:14.618344Z",
     "shell.execute_reply": "2023-05-20T14:04:14.617487Z"
    },
    "papermill": {
     "duration": 0.019729,
     "end_time": "2023-05-20T14:04:14.620276",
     "exception": false,
     "start_time": "2023-05-20T14:04:14.600547",
     "status": "completed"
    },
    "tags": []
   },
   "outputs": [],
   "source": [
    "from keras.callbacks import EarlyStopping\n",
    "early_stopping = EarlyStopping(monitor = 'val_loss', min_delta = 0, patience = 7, mode = 'auto')"
   ]
  },
  {
   "cell_type": "code",
   "execution_count": 18,
   "id": "847dcfe2",
   "metadata": {
    "execution": {
     "iopub.execute_input": "2023-05-20T14:04:14.645012Z",
     "iopub.status.busy": "2023-05-20T14:04:14.644146Z",
     "iopub.status.idle": "2023-05-20T17:39:51.448861Z",
     "shell.execute_reply": "2023-05-20T17:39:51.447888Z"
    },
    "papermill": {
     "duration": 12936.819194,
     "end_time": "2023-05-20T17:39:51.450895",
     "exception": false,
     "start_time": "2023-05-20T14:04:14.631701",
     "status": "completed"
    },
    "tags": []
   },
   "outputs": [
    {
     "name": "stdout",
     "output_type": "stream",
     "text": [
      "Epoch 1/100\n",
      "625/625 [==============================] - 140s 204ms/step - loss: 0.6938 - acc: 0.4998 - val_loss: 0.6930 - val_acc: 0.5002\n",
      "Epoch 2/100\n",
      "625/625 [==============================] - 130s 207ms/step - loss: 0.6933 - acc: 0.5013 - val_loss: 0.6931 - val_acc: 0.4998\n",
      "Epoch 3/100\n",
      "625/625 [==============================] - 131s 210ms/step - loss: 0.6931 - acc: 0.5071 - val_loss: 0.6930 - val_acc: 0.4998\n",
      "Epoch 4/100\n",
      "625/625 [==============================] - 132s 211ms/step - loss: 0.6933 - acc: 0.5000 - val_loss: 0.6930 - val_acc: 0.4998\n",
      "Epoch 5/100\n",
      "625/625 [==============================] - 132s 211ms/step - loss: 0.6931 - acc: 0.5070 - val_loss: 0.6930 - val_acc: 0.5000\n",
      "Epoch 6/100\n",
      "625/625 [==============================] - 132s 211ms/step - loss: 0.6933 - acc: 0.5044 - val_loss: 0.6929 - val_acc: 0.4998\n",
      "Epoch 7/100\n",
      "625/625 [==============================] - 130s 208ms/step - loss: 0.6931 - acc: 0.5067 - val_loss: 0.6927 - val_acc: 0.5000\n",
      "Epoch 8/100\n",
      "625/625 [==============================] - 131s 210ms/step - loss: 0.6921 - acc: 0.5196 - val_loss: 0.6841 - val_acc: 0.5345\n",
      "Epoch 9/100\n",
      "625/625 [==============================] - 134s 214ms/step - loss: 0.6814 - acc: 0.5606 - val_loss: 0.6661 - val_acc: 0.5651\n",
      "Epoch 10/100\n",
      "625/625 [==============================] - 129s 207ms/step - loss: 0.6643 - acc: 0.5962 - val_loss: 0.6541 - val_acc: 0.5811\n",
      "Epoch 11/100\n",
      "625/625 [==============================] - 131s 209ms/step - loss: 0.6492 - acc: 0.6221 - val_loss: 0.6307 - val_acc: 0.6438\n",
      "Epoch 12/100\n",
      "625/625 [==============================] - 129s 206ms/step - loss: 0.6378 - acc: 0.6438 - val_loss: 0.6151 - val_acc: 0.6542\n",
      "Epoch 13/100\n",
      "625/625 [==============================] - 128s 205ms/step - loss: 0.6230 - acc: 0.6624 - val_loss: 0.5991 - val_acc: 0.6719\n",
      "Epoch 14/100\n",
      "625/625 [==============================] - 129s 206ms/step - loss: 0.6092 - acc: 0.6775 - val_loss: 0.6405 - val_acc: 0.6266\n",
      "Epoch 15/100\n",
      "625/625 [==============================] - 128s 204ms/step - loss: 0.5991 - acc: 0.6887 - val_loss: 0.5960 - val_acc: 0.6723\n",
      "Epoch 16/100\n",
      "625/625 [==============================] - 125s 200ms/step - loss: 0.5819 - acc: 0.7030 - val_loss: 0.5716 - val_acc: 0.7103\n",
      "Epoch 17/100\n",
      "625/625 [==============================] - 125s 200ms/step - loss: 0.5789 - acc: 0.7042 - val_loss: 0.5191 - val_acc: 0.7436\n",
      "Epoch 18/100\n",
      "625/625 [==============================] - 128s 205ms/step - loss: 0.5627 - acc: 0.7182 - val_loss: 0.5846 - val_acc: 0.7143\n",
      "Epoch 19/100\n",
      "625/625 [==============================] - 125s 200ms/step - loss: 0.5621 - acc: 0.7243 - val_loss: 0.5815 - val_acc: 0.7009\n",
      "Epoch 20/100\n",
      "625/625 [==============================] - 128s 204ms/step - loss: 0.5468 - acc: 0.7326 - val_loss: 0.5554 - val_acc: 0.7382\n",
      "Epoch 21/100\n",
      "625/625 [==============================] - 129s 207ms/step - loss: 0.5415 - acc: 0.7398 - val_loss: 0.5377 - val_acc: 0.7506\n",
      "Epoch 22/100\n",
      "625/625 [==============================] - 127s 203ms/step - loss: 0.5307 - acc: 0.7491 - val_loss: 0.5103 - val_acc: 0.7548\n",
      "Epoch 23/100\n",
      "625/625 [==============================] - 128s 205ms/step - loss: 0.5219 - acc: 0.7558 - val_loss: 0.5861 - val_acc: 0.7079\n",
      "Epoch 24/100\n",
      "625/625 [==============================] - 127s 204ms/step - loss: 0.5161 - acc: 0.7588 - val_loss: 0.4870 - val_acc: 0.7642\n",
      "Epoch 25/100\n",
      "625/625 [==============================] - 129s 207ms/step - loss: 0.5107 - acc: 0.7621 - val_loss: 0.4924 - val_acc: 0.7738\n",
      "Epoch 26/100\n",
      "625/625 [==============================] - 130s 208ms/step - loss: 0.5030 - acc: 0.7681 - val_loss: 0.5659 - val_acc: 0.7254\n",
      "Epoch 27/100\n",
      "625/625 [==============================] - 130s 208ms/step - loss: 0.5004 - acc: 0.7698 - val_loss: 0.4931 - val_acc: 0.7696\n",
      "Epoch 28/100\n",
      "625/625 [==============================] - 127s 203ms/step - loss: 0.4921 - acc: 0.7767 - val_loss: 0.4856 - val_acc: 0.7728\n",
      "Epoch 29/100\n",
      "625/625 [==============================] - 129s 206ms/step - loss: 0.4890 - acc: 0.7755 - val_loss: 0.4684 - val_acc: 0.7800\n",
      "Epoch 30/100\n",
      "625/625 [==============================] - 130s 207ms/step - loss: 0.4795 - acc: 0.7797 - val_loss: 0.4682 - val_acc: 0.7794\n",
      "Epoch 31/100\n",
      "625/625 [==============================] - 129s 207ms/step - loss: 0.4809 - acc: 0.7836 - val_loss: 0.4397 - val_acc: 0.7949\n",
      "Epoch 32/100\n",
      "625/625 [==============================] - 127s 203ms/step - loss: 0.4696 - acc: 0.7836 - val_loss: 0.4511 - val_acc: 0.7853\n",
      "Epoch 33/100\n",
      "625/625 [==============================] - 128s 204ms/step - loss: 0.4666 - acc: 0.7871 - val_loss: 0.4913 - val_acc: 0.7526\n",
      "Epoch 34/100\n",
      "625/625 [==============================] - 127s 202ms/step - loss: 0.4573 - acc: 0.7936 - val_loss: 0.4903 - val_acc: 0.7800\n",
      "Epoch 35/100\n",
      "625/625 [==============================] - 129s 206ms/step - loss: 0.4510 - acc: 0.7983 - val_loss: 0.4903 - val_acc: 0.7554\n",
      "Epoch 36/100\n",
      "625/625 [==============================] - 126s 201ms/step - loss: 0.4541 - acc: 0.7984 - val_loss: 0.4078 - val_acc: 0.8127\n",
      "Epoch 37/100\n",
      "625/625 [==============================] - 125s 199ms/step - loss: 0.4393 - acc: 0.8047 - val_loss: 0.4180 - val_acc: 0.8059\n",
      "Epoch 38/100\n",
      "625/625 [==============================] - 125s 199ms/step - loss: 0.4361 - acc: 0.8075 - val_loss: 0.4214 - val_acc: 0.7989\n",
      "Epoch 39/100\n",
      "625/625 [==============================] - 129s 207ms/step - loss: 0.4330 - acc: 0.8092 - val_loss: 0.3973 - val_acc: 0.8207\n",
      "Epoch 40/100\n",
      "625/625 [==============================] - 126s 202ms/step - loss: 0.4279 - acc: 0.8137 - val_loss: 0.4020 - val_acc: 0.8125\n",
      "Epoch 41/100\n",
      "625/625 [==============================] - 127s 203ms/step - loss: 0.4193 - acc: 0.8156 - val_loss: 0.4385 - val_acc: 0.7891\n",
      "Epoch 42/100\n",
      "625/625 [==============================] - 126s 201ms/step - loss: 0.4150 - acc: 0.8214 - val_loss: 0.4186 - val_acc: 0.8021\n",
      "Epoch 43/100\n",
      "625/625 [==============================] - 127s 202ms/step - loss: 0.4082 - acc: 0.8219 - val_loss: 0.4225 - val_acc: 0.8165\n",
      "Epoch 44/100\n",
      "625/625 [==============================] - 126s 202ms/step - loss: 0.4037 - acc: 0.8212 - val_loss: 0.3862 - val_acc: 0.8273\n",
      "Epoch 45/100\n",
      "625/625 [==============================] - 128s 205ms/step - loss: 0.3955 - acc: 0.8272 - val_loss: 0.3926 - val_acc: 0.8303\n",
      "Epoch 46/100\n",
      "625/625 [==============================] - 125s 200ms/step - loss: 0.3871 - acc: 0.8306 - val_loss: 0.3623 - val_acc: 0.8423\n",
      "Epoch 47/100\n",
      "625/625 [==============================] - 126s 202ms/step - loss: 0.3884 - acc: 0.8349 - val_loss: 0.3739 - val_acc: 0.8359\n",
      "Epoch 48/100\n",
      "625/625 [==============================] - 130s 208ms/step - loss: 0.3845 - acc: 0.8321 - val_loss: 0.4431 - val_acc: 0.7953\n",
      "Epoch 49/100\n",
      "625/625 [==============================] - 125s 200ms/step - loss: 0.3747 - acc: 0.8390 - val_loss: 0.4667 - val_acc: 0.7959\n",
      "Epoch 50/100\n",
      "625/625 [==============================] - 130s 208ms/step - loss: 0.3634 - acc: 0.8446 - val_loss: 0.3538 - val_acc: 0.8464\n",
      "Epoch 51/100\n",
      "625/625 [==============================] - 129s 207ms/step - loss: 0.3593 - acc: 0.8482 - val_loss: 0.3553 - val_acc: 0.8375\n",
      "Epoch 52/100\n",
      "625/625 [==============================] - 126s 202ms/step - loss: 0.3597 - acc: 0.8478 - val_loss: 0.3554 - val_acc: 0.8403\n",
      "Epoch 53/100\n",
      "625/625 [==============================] - 128s 204ms/step - loss: 0.3521 - acc: 0.8522 - val_loss: 0.3636 - val_acc: 0.8399\n",
      "Epoch 54/100\n",
      "625/625 [==============================] - 126s 201ms/step - loss: 0.3439 - acc: 0.8556 - val_loss: 0.3765 - val_acc: 0.8347\n",
      "Epoch 55/100\n",
      "625/625 [==============================] - 129s 206ms/step - loss: 0.3418 - acc: 0.8566 - val_loss: 0.3748 - val_acc: 0.8413\n",
      "Epoch 56/100\n",
      "625/625 [==============================] - 128s 205ms/step - loss: 0.3326 - acc: 0.8601 - val_loss: 0.3473 - val_acc: 0.8482\n",
      "Epoch 57/100\n",
      "625/625 [==============================] - 127s 204ms/step - loss: 0.3349 - acc: 0.8625 - val_loss: 0.4205 - val_acc: 0.8205\n",
      "Epoch 58/100\n",
      "625/625 [==============================] - 127s 204ms/step - loss: 0.3307 - acc: 0.8640 - val_loss: 0.3220 - val_acc: 0.8566\n",
      "Epoch 59/100\n",
      "625/625 [==============================] - 129s 206ms/step - loss: 0.3266 - acc: 0.8665 - val_loss: 0.3385 - val_acc: 0.8464\n",
      "Epoch 60/100\n",
      "625/625 [==============================] - 127s 203ms/step - loss: 0.3259 - acc: 0.8622 - val_loss: 0.3879 - val_acc: 0.8329\n",
      "Epoch 61/100\n",
      "625/625 [==============================] - 129s 206ms/step - loss: 0.3164 - acc: 0.8698 - val_loss: 0.3314 - val_acc: 0.8520\n",
      "Epoch 62/100\n",
      "625/625 [==============================] - 130s 207ms/step - loss: 0.3133 - acc: 0.8744 - val_loss: 0.3078 - val_acc: 0.8632\n",
      "Epoch 63/100\n",
      "625/625 [==============================] - 127s 203ms/step - loss: 0.3067 - acc: 0.8739 - val_loss: 0.3522 - val_acc: 0.8492\n",
      "Epoch 64/100\n",
      "625/625 [==============================] - 131s 210ms/step - loss: 0.3102 - acc: 0.8719 - val_loss: 0.3157 - val_acc: 0.8572\n",
      "Epoch 65/100\n",
      "625/625 [==============================] - 126s 201ms/step - loss: 0.2983 - acc: 0.8772 - val_loss: 0.3478 - val_acc: 0.8682\n",
      "Epoch 66/100\n",
      "625/625 [==============================] - 130s 208ms/step - loss: 0.2991 - acc: 0.8759 - val_loss: 0.3076 - val_acc: 0.8642\n",
      "Epoch 67/100\n",
      "625/625 [==============================] - 130s 207ms/step - loss: 0.2945 - acc: 0.8775 - val_loss: 0.3150 - val_acc: 0.8602\n",
      "Epoch 68/100\n",
      "625/625 [==============================] - 126s 201ms/step - loss: 0.2899 - acc: 0.8790 - val_loss: 0.3081 - val_acc: 0.8662\n",
      "Epoch 69/100\n",
      "625/625 [==============================] - 128s 204ms/step - loss: 0.2883 - acc: 0.8820 - val_loss: 0.2881 - val_acc: 0.8738\n",
      "Epoch 70/100\n",
      "625/625 [==============================] - 129s 206ms/step - loss: 0.2870 - acc: 0.8834 - val_loss: 0.3166 - val_acc: 0.8624\n",
      "Epoch 71/100\n",
      "625/625 [==============================] - 126s 201ms/step - loss: 0.2772 - acc: 0.8851 - val_loss: 0.2931 - val_acc: 0.8746\n",
      "Epoch 72/100\n",
      "625/625 [==============================] - 129s 206ms/step - loss: 0.2761 - acc: 0.8880 - val_loss: 0.2804 - val_acc: 0.8850\n",
      "Epoch 73/100\n",
      "625/625 [==============================] - 126s 201ms/step - loss: 0.2667 - acc: 0.8907 - val_loss: 0.2747 - val_acc: 0.8838\n",
      "Epoch 74/100\n",
      "625/625 [==============================] - 131s 209ms/step - loss: 0.2699 - acc: 0.8913 - val_loss: 0.3264 - val_acc: 0.8540\n",
      "Epoch 75/100\n",
      "625/625 [==============================] - 128s 205ms/step - loss: 0.2631 - acc: 0.8917 - val_loss: 0.2837 - val_acc: 0.8774\n",
      "Epoch 76/100\n",
      "625/625 [==============================] - 130s 208ms/step - loss: 0.2601 - acc: 0.8929 - val_loss: 0.3097 - val_acc: 0.8686\n",
      "Epoch 77/100\n",
      "625/625 [==============================] - 125s 201ms/step - loss: 0.2616 - acc: 0.8928 - val_loss: 0.3175 - val_acc: 0.8772\n",
      "Epoch 78/100\n",
      "625/625 [==============================] - 126s 201ms/step - loss: 0.2554 - acc: 0.8974 - val_loss: 0.2904 - val_acc: 0.8740\n",
      "Epoch 79/100\n",
      "625/625 [==============================] - 128s 205ms/step - loss: 0.2522 - acc: 0.8982 - val_loss: 0.2618 - val_acc: 0.8918\n",
      "Epoch 80/100\n",
      "625/625 [==============================] - 126s 202ms/step - loss: 0.2486 - acc: 0.8989 - val_loss: 0.2521 - val_acc: 0.8932\n",
      "Epoch 81/100\n",
      "625/625 [==============================] - 128s 205ms/step - loss: 0.2444 - acc: 0.9000 - val_loss: 0.2990 - val_acc: 0.8734\n",
      "Epoch 82/100\n",
      "625/625 [==============================] - 130s 207ms/step - loss: 0.2414 - acc: 0.9043 - val_loss: 0.2782 - val_acc: 0.8822\n",
      "Epoch 83/100\n",
      "625/625 [==============================] - 128s 205ms/step - loss: 0.2379 - acc: 0.9033 - val_loss: 0.2906 - val_acc: 0.8848\n",
      "Epoch 84/100\n",
      "625/625 [==============================] - 129s 206ms/step - loss: 0.2401 - acc: 0.9029 - val_loss: 0.2544 - val_acc: 0.8924\n",
      "Epoch 85/100\n",
      "625/625 [==============================] - 129s 206ms/step - loss: 0.2375 - acc: 0.9053 - val_loss: 0.2669 - val_acc: 0.8960\n",
      "Epoch 86/100\n",
      "625/625 [==============================] - 132s 211ms/step - loss: 0.2347 - acc: 0.9065 - val_loss: 0.2694 - val_acc: 0.8874\n",
      "Epoch 87/100\n",
      "625/625 [==============================] - 130s 207ms/step - loss: 0.2307 - acc: 0.9090 - val_loss: 0.2516 - val_acc: 0.8970\n",
      "Epoch 88/100\n",
      "625/625 [==============================] - 133s 213ms/step - loss: 0.2291 - acc: 0.9076 - val_loss: 0.2705 - val_acc: 0.8936\n",
      "Epoch 89/100\n",
      "625/625 [==============================] - 132s 211ms/step - loss: 0.2227 - acc: 0.9116 - val_loss: 0.2613 - val_acc: 0.8944\n",
      "Epoch 90/100\n",
      "625/625 [==============================] - 130s 208ms/step - loss: 0.2253 - acc: 0.9105 - val_loss: 0.2475 - val_acc: 0.8944\n",
      "Epoch 91/100\n",
      "625/625 [==============================] - 130s 208ms/step - loss: 0.2196 - acc: 0.9112 - val_loss: 0.2353 - val_acc: 0.9024\n",
      "Epoch 92/100\n",
      "625/625 [==============================] - 131s 209ms/step - loss: 0.2138 - acc: 0.9169 - val_loss: 0.2444 - val_acc: 0.8978\n",
      "Epoch 93/100\n",
      "625/625 [==============================] - 132s 211ms/step - loss: 0.2188 - acc: 0.9130 - val_loss: 0.2616 - val_acc: 0.8924\n",
      "Epoch 94/100\n",
      "625/625 [==============================] - 130s 207ms/step - loss: 0.2156 - acc: 0.9140 - val_loss: 0.2492 - val_acc: 0.8966\n",
      "Epoch 95/100\n",
      "625/625 [==============================] - 127s 203ms/step - loss: 0.2092 - acc: 0.9161 - val_loss: 0.2493 - val_acc: 0.9002\n",
      "Epoch 96/100\n",
      "625/625 [==============================] - 129s 207ms/step - loss: 0.2082 - acc: 0.9168 - val_loss: 0.2376 - val_acc: 0.9024\n",
      "Epoch 97/100\n",
      "625/625 [==============================] - 127s 203ms/step - loss: 0.2063 - acc: 0.9196 - val_loss: 0.2636 - val_acc: 0.8992\n",
      "Epoch 98/100\n",
      "625/625 [==============================] - 127s 202ms/step - loss: 0.2066 - acc: 0.9182 - val_loss: 0.2411 - val_acc: 0.9079\n"
     ]
    }
   ],
   "source": [
    "hist = model.fit(train_generator,\n",
    "                steps_per_epoch=train_step,\n",
    "                epochs=100,\n",
    "                validation_data=valid_generator,\n",
    "                validation_steps=valid_step,\n",
    "                callbacks = [early_stopping]\n",
    "                )\n"
   ]
  },
  {
   "cell_type": "code",
   "execution_count": 19,
   "id": "f440afbf",
   "metadata": {
    "execution": {
     "iopub.execute_input": "2023-05-20T17:40:01.641009Z",
     "iopub.status.busy": "2023-05-20T17:40:01.640017Z",
     "iopub.status.idle": "2023-05-20T17:40:07.119657Z",
     "shell.execute_reply": "2023-05-20T17:40:07.118761Z"
    },
    "papermill": {
     "duration": 10.362492,
     "end_time": "2023-05-20T17:40:07.121802",
     "exception": false,
     "start_time": "2023-05-20T17:39:56.759310",
     "status": "completed"
    },
    "tags": []
   },
   "outputs": [
    {
     "data": {
      "image/png": "[encoded data removed]",
      "text/plain": [
       "<Figure size 640x480 with 2 Axes>"
      ]
     },
     "metadata": {},
     "output_type": "display_data"
    }
   ],
   "source": [
    "%matplotlib inline\n",
    "import matplotlib.pyplot as plt\n",
    "\n",
    "fig, loss_ax = plt.subplots()\n",
    "acc_ax = loss_ax.twinx()\n",
    "\n",
    "loss_ax.plot(hist.history['loss'], 'y', label = 'train loss')\n",
    "loss_ax.plot(hist.history['val_loss'], 'r', label = 'val loss')\n",
    "acc_ax.plot(hist.history['acc'], 'b', label = 'train accuracy')\n",
    "acc_ax.plot(hist.history['val_acc'], 'g', label = 'val accuracy')\n",
    "\n",
    "loss_ax.set_xlabel('epoch')\n",
    "loss_ax.set_ylabel('loss')\n",
    "acc_ax.set_xlabel('accuracy')\n",
    "\n",
    "loss_ax.legend(loc = 'upper left')\n",
    "acc_ax.legend(loc = 'lower left')\n",
    "\n",
    "plt.show()"
   ]
  },
  {
   "cell_type": "code",
   "execution_count": 20,
   "id": "110c28d6",
   "metadata": {
    "execution": {
     "iopub.execute_input": "2023-05-20T17:40:16.859279Z",
     "iopub.status.busy": "2023-05-20T17:40:16.858879Z",
     "iopub.status.idle": "2023-05-20T17:40:16.863208Z",
     "shell.execute_reply": "2023-05-20T17:40:16.862175Z"
    },
    "papermill": {
     "duration": 4.940258,
     "end_time": "2023-05-20T17:40:16.865178",
     "exception": false,
     "start_time": "2023-05-20T17:40:11.924920",
     "status": "completed"
    },
    "tags": []
   },
   "outputs": [],
   "source": [
    "#model.save('/kaggle/working/first_cnn.h5')"
   ]
  },
  {
   "cell_type": "code",
   "execution_count": 21,
   "id": "53455df6",
   "metadata": {
    "execution": {
     "iopub.execute_input": "2023-05-20T17:40:26.980129Z",
     "iopub.status.busy": "2023-05-20T17:40:26.979754Z",
     "iopub.status.idle": "2023-05-20T17:40:47.828342Z",
     "shell.execute_reply": "2023-05-20T17:40:47.827378Z"
    },
    "papermill": {
     "duration": 26.192416,
     "end_time": "2023-05-20T17:40:47.830681",
     "exception": false,
     "start_time": "2023-05-20T17:40:21.638265",
     "status": "completed"
    },
    "tags": []
   },
   "outputs": [
    {
     "name": "stdout",
     "output_type": "stream",
     "text": [
      "Found 12500 validated image filenames.\n",
      "12500/12500 [==============================] - 20s 2ms/step\n"
     ]
    }
   ],
   "source": [
    "paths=[]\n",
    "for file_name in test_files:\n",
    "    path = test_dir+'/'+file_name\n",
    "    paths.append(path)\n",
    "\n",
    "test_df= pd.DataFrame({'path':paths})\n",
    "\n",
    "\n",
    "eval_generator = test_datagen.flow_from_dataframe(dataframe=test_df,x_col='path',target_size=(image_size,image_size),batch_size=32,class_mode=None,shuffle=False)\n",
    "pred = model.predict(eval_generator, steps=12500)"
   ]
  },
  {
   "cell_type": "code",
   "execution_count": 22,
   "id": "dd5358d9",
   "metadata": {
    "execution": {
     "iopub.execute_input": "2023-05-20T17:40:57.744530Z",
     "iopub.status.busy": "2023-05-20T17:40:57.744169Z",
     "iopub.status.idle": "2023-05-20T17:40:57.748475Z",
     "shell.execute_reply": "2023-05-20T17:40:57.747594Z"
    },
    "papermill": {
     "duration": 5.146653,
     "end_time": "2023-05-20T17:40:57.750491",
     "exception": false,
     "start_time": "2023-05-20T17:40:52.603838",
     "status": "completed"
    },
    "tags": []
   },
   "outputs": [],
   "source": [
    "#pred = np.clip(pred, 0.01, 0.99)"
   ]
  },
  {
   "cell_type": "code",
   "execution_count": 23,
   "id": "85fdaff3",
   "metadata": {
    "execution": {
     "iopub.execute_input": "2023-05-20T17:41:07.376634Z",
     "iopub.status.busy": "2023-05-20T17:41:07.376270Z",
     "iopub.status.idle": "2023-05-20T17:41:07.398190Z",
     "shell.execute_reply": "2023-05-20T17:41:07.397281Z"
    },
    "papermill": {
     "duration": 4.800573,
     "end_time": "2023-05-20T17:41:07.400171",
     "exception": false,
     "start_time": "2023-05-20T17:41:02.599598",
     "status": "completed"
    },
    "tags": []
   },
   "outputs": [
    {
     "name": "stdout",
     "output_type": "stream",
     "text": [
      "[    1     2     3 ... 12498 12499 12500]\n"
     ]
    },
    {
     "data": {
      "text/html": [
       "<div>\n",
       "<style scoped>\n",
       "    .dataframe tbody tr th:only-of-type {\n",
       "        vertical-align: middle;\n",
       "    }\n",
       "\n",
       "    .dataframe tbody tr th {\n",
       "        vertical-align: top;\n",
       "    }\n",
       "\n",
       "    .dataframe thead th {\n",
       "        text-align: right;\n",
       "    }\n",
       "</style>\n",
       "<table border=\"1\" class=\"dataframe\">\n",
       "  <thead>\n",
       "    <tr style=\"text-align: right;\">\n",
       "      <th></th>\n",
       "      <th>id</th>\n",
       "      <th>label</th>\n",
       "    </tr>\n",
       "  </thead>\n",
       "  <tbody>\n",
       "    <tr>\n",
       "      <th>0</th>\n",
       "      <td>1</td>\n",
       "      <td>0.632110</td>\n",
       "    </tr>\n",
       "    <tr>\n",
       "      <th>1</th>\n",
       "      <td>2</td>\n",
       "      <td>0.999996</td>\n",
       "    </tr>\n",
       "    <tr>\n",
       "      <th>2</th>\n",
       "      <td>3</td>\n",
       "      <td>0.999984</td>\n",
       "    </tr>\n",
       "    <tr>\n",
       "      <th>3</th>\n",
       "      <td>4</td>\n",
       "      <td>0.999200</td>\n",
       "    </tr>\n",
       "    <tr>\n",
       "      <th>4</th>\n",
       "      <td>5</td>\n",
       "      <td>0.001660</td>\n",
       "    </tr>\n",
       "  </tbody>\n",
       "</table>\n",
       "</div>"
      ],
      "text/plain": [
       "   id     label\n",
       "0   1  0.632110\n",
       "1   2  0.999996\n",
       "2   3  0.999984\n",
       "3   4  0.999200\n",
       "4   5  0.001660"
      ]
     },
     "execution_count": 23,
     "metadata": {},
     "output_type": "execute_result"
    }
   ],
   "source": [
    "id = np.array([[i for i in range(1, len(pred)+1)]], dtype=np.int32).reshape(-1,)\n",
    "print(id)\n",
    "submission = pd.DataFrame()\n",
    "submission['id'] = id\n",
    "submission['label'] = pred\n",
    "submission.head()"
   ]
  },
  {
   "cell_type": "code",
   "execution_count": 24,
   "id": "5a4918a9",
   "metadata": {
    "execution": {
     "iopub.execute_input": "2023-05-20T17:41:17.171001Z",
     "iopub.status.busy": "2023-05-20T17:41:17.170647Z",
     "iopub.status.idle": "2023-05-20T17:41:17.215698Z",
     "shell.execute_reply": "2023-05-20T17:41:17.214789Z"
    },
    "papermill": {
     "duration": 4.809643,
     "end_time": "2023-05-20T17:41:17.217903",
     "exception": false,
     "start_time": "2023-05-20T17:41:12.408260",
     "status": "completed"
    },
    "tags": []
   },
   "outputs": [
    {
     "name": "stdout",
     "output_type": "stream",
     "text": [
      "submit finish\n"
     ]
    }
   ],
   "source": [
    "submission.to_csv('submission.csv', index=False)\n",
    "print('submit finish')"
   ]
  },
  {
   "cell_type": "code",
   "execution_count": null,
   "id": "4c462cc7",
   "metadata": {
    "papermill": {
     "duration": 4.767247,
     "end_time": "2023-05-20T17:41:26.966362",
     "exception": false,
     "start_time": "2023-05-20T17:41:22.199115",
     "status": "completed"
    },
    "tags": []
   },
   "outputs": [],
   "source": []
  }
 ],
 "metadata": {
  "kernelspec": {
   "display_name": "Python 3",
   "language": "python",
   "name": "python3"
  },
  "language_info": {
   "codemirror_mode": {
    "name": "ipython",
    "version": 3
   },
   "file_extension": ".py",
   "mimetype": "text/x-python",
   "name": "python",
   "nbconvert_exporter": "python",
   "pygments_lexer": "ipython3",
   "version": "3.10.10"
  },
  "papermill": {
   "default_parameters": {},
   "duration": 13081.758037,
   "end_time": "2023-05-20T17:41:35.508737",
   "environment_variables": {},
   "exception": null,
   "input_path": "__notebook__.ipynb",
   "output_path": "__notebook__.ipynb",
   "parameters": {},
   "start_time": "2023-05-20T14:03:33.750700",
   "version": "2.4.0"
  }
 },
 "nbformat": 4,
 "nbformat_minor": 5
}
